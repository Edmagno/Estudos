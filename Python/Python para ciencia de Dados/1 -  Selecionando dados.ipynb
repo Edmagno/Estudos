{
 "cells": [
  {
   "cell_type": "markdown",
   "id": "5e5c5058",
   "metadata": {},
   "source": [
    "___\n",
    "# 1 - Selecionando dados\n",
    "___\n",
    "### Importando bibliotecas e classes\n",
    "\n",
    "Podemos usar a notação `as` para abreviar o nome das bibliotecas e médotos que vamos importar e facilitar a escrita de código."
   ]
  },
  {
   "cell_type": "code",
   "execution_count": 1,
   "id": "89c4bdc3",
   "metadata": {},
   "outputs": [],
   "source": [
    "import pandas as pd\n",
    "import numpy as np\n",
    "\n",
    "from pandas import Series, DataFrame"
   ]
  },
  {
   "cell_type": "markdown",
   "id": "3a6830fd",
   "metadata": {},
   "source": [
    "### Criar dados\n",
    "#### np.arange(valor)\n",
    "\n",
    "O método arange gera um array de valores ordenados. A quantidade de valores é passada como parâmetro"
   ]
  },
  {
   "cell_type": "code",
   "execution_count": 3,
   "id": "9687ae4b",
   "metadata": {},
   "outputs": [],
   "source": [
    "dados = np.arange(8)"
   ]
  },
  {
   "cell_type": "code",
   "execution_count": 4,
   "id": "f70b7842",
   "metadata": {},
   "outputs": [
    {
     "data": {
      "text/plain": [
       "array([0, 1, 2, 3, 4, 5, 6, 7])"
      ]
     },
     "execution_count": 4,
     "metadata": {},
     "output_type": "execute_result"
    }
   ],
   "source": [
    "dados"
   ]
  },
  {
   "cell_type": "markdown",
   "id": "b72e460a",
   "metadata": {},
   "source": [
    "#### np.reshape()"
   ]
  },
  {
   "cell_type": "markdown",
   "id": "1bf10c95",
   "metadata": {},
   "source": [
    "O método reshape é usado para remodelar o formato de um array. Se nós temos um array unidimensional com 8 itens podemos regorganiza-lo de tal forma que podemos ter 4 linhas e 2 colunas. Podemos pensar como se fosse transformar um array em uma matriz"
   ]
  },
  {
   "cell_type": "code",
   "execution_count": 5,
   "id": "df4bb5c1",
   "metadata": {},
   "outputs": [
    {
     "data": {
      "text/plain": [
       "array([[0, 1],\n",
       "       [2, 3],\n",
       "       [4, 5],\n",
       "       [6, 7]])"
      ]
     },
     "execution_count": 5,
     "metadata": {},
     "output_type": "execute_result"
    }
   ],
   "source": [
    "dados.reshape((4,2))"
   ]
  },
  {
   "cell_type": "markdown",
   "id": "6a34373d",
   "metadata": {},
   "source": [
    "### Selecionar e buscar dados"
   ]
  },
  {
   "cell_type": "code",
   "execution_count": 6,
   "id": "a2f882e3",
   "metadata": {},
   "outputs": [
    {
     "data": {
      "text/plain": [
       "linha 1    0\n",
       "linha 2    1\n",
       "linha 3    2\n",
       "linha 4    3\n",
       "linha 5    4\n",
       "linha 6    5\n",
       "linha 7    6\n",
       "linha 8    7\n",
       "dtype: int32"
      ]
     },
     "execution_count": 6,
     "metadata": {},
     "output_type": "execute_result"
    }
   ],
   "source": [
    "indice = ['linha 1', 'linha 2', 'linha 3', 'linha 4', 'linha 5', 'linha 6', 'linha 7', 'linha 8']\n",
    "\n",
    "serie = Series(dados,indice)\n",
    "serie"
   ]
  },
  {
   "cell_type": "markdown",
   "id": "4edd71fe",
   "metadata": {},
   "source": [
    "#### ['índice']\n"
   ]
  },
  {
   "cell_type": "markdown",
   "id": "86969cad",
   "metadata": {},
   "source": [
    "Quando você escreve um par de colchetes com um índice dentro deles, o Python entende que ele precisa selecionar e buscar todas as entradas que estão associadas aquele índice."
   ]
  },
  {
   "cell_type": "code",
   "execution_count": 7,
   "id": "4a40ce6d",
   "metadata": {},
   "outputs": [
    {
     "data": {
      "text/plain": [
       "6"
      ]
     },
     "execution_count": 7,
     "metadata": {},
     "output_type": "execute_result"
    }
   ],
   "source": [
    "serie['linha 7']"
   ]
  },
  {
   "cell_type": "code",
   "execution_count": 38,
   "id": "7f3a40e8",
   "metadata": {},
   "outputs": [
    {
     "data": {
      "text/html": [
       "<div>\n",
       "<style scoped>\n",
       "    .dataframe tbody tr th:only-of-type {\n",
       "        vertical-align: middle;\n",
       "    }\n",
       "\n",
       "    .dataframe tbody tr th {\n",
       "        vertical-align: top;\n",
       "    }\n",
       "\n",
       "    .dataframe thead th {\n",
       "        text-align: right;\n",
       "    }\n",
       "</style>\n",
       "<table border=\"1\" class=\"dataframe\">\n",
       "  <thead>\n",
       "    <tr style=\"text-align: right;\">\n",
       "      <th></th>\n",
       "      <th>coluna 1</th>\n",
       "      <th>coluna 2</th>\n",
       "      <th>coluna 3</th>\n",
       "      <th>coluna 4</th>\n",
       "      <th>coluna 5</th>\n",
       "      <th>coluna 6</th>\n",
       "    </tr>\n",
       "  </thead>\n",
       "  <tbody>\n",
       "    <tr>\n",
       "      <th>linha 1</th>\n",
       "      <td>0.870124</td>\n",
       "      <td>0.582277</td>\n",
       "      <td>0.278839</td>\n",
       "      <td>0.185911</td>\n",
       "      <td>0.411100</td>\n",
       "      <td>0.117376</td>\n",
       "    </tr>\n",
       "    <tr>\n",
       "      <th>linha 2</th>\n",
       "      <td>0.684969</td>\n",
       "      <td>0.437611</td>\n",
       "      <td>0.556229</td>\n",
       "      <td>0.367080</td>\n",
       "      <td>0.402366</td>\n",
       "      <td>0.113041</td>\n",
       "    </tr>\n",
       "    <tr>\n",
       "      <th>linha 3</th>\n",
       "      <td>0.447031</td>\n",
       "      <td>0.585445</td>\n",
       "      <td>0.161985</td>\n",
       "      <td>0.520719</td>\n",
       "      <td>0.326051</td>\n",
       "      <td>0.699186</td>\n",
       "    </tr>\n",
       "    <tr>\n",
       "      <th>linha 4</th>\n",
       "      <td>0.366395</td>\n",
       "      <td>0.836375</td>\n",
       "      <td>0.481343</td>\n",
       "      <td>0.516502</td>\n",
       "      <td>0.383048</td>\n",
       "      <td>0.997541</td>\n",
       "    </tr>\n",
       "    <tr>\n",
       "      <th>linha 5</th>\n",
       "      <td>0.514244</td>\n",
       "      <td>0.559053</td>\n",
       "      <td>0.034450</td>\n",
       "      <td>0.719930</td>\n",
       "      <td>0.421004</td>\n",
       "      <td>0.436935</td>\n",
       "    </tr>\n",
       "    <tr>\n",
       "      <th>linha 6</th>\n",
       "      <td>0.281701</td>\n",
       "      <td>0.900274</td>\n",
       "      <td>0.669612</td>\n",
       "      <td>0.456069</td>\n",
       "      <td>0.289804</td>\n",
       "      <td>0.525819</td>\n",
       "    </tr>\n",
       "  </tbody>\n",
       "</table>\n",
       "</div>"
      ],
      "text/plain": [
       "         coluna 1  coluna 2  coluna 3  coluna 4  coluna 5  coluna 6\n",
       "linha 1  0.870124  0.582277  0.278839  0.185911  0.411100  0.117376\n",
       "linha 2  0.684969  0.437611  0.556229  0.367080  0.402366  0.113041\n",
       "linha 3  0.447031  0.585445  0.161985  0.520719  0.326051  0.699186\n",
       "linha 4  0.366395  0.836375  0.481343  0.516502  0.383048  0.997541\n",
       "linha 5  0.514244  0.559053  0.034450  0.719930  0.421004  0.436935\n",
       "linha 6  0.281701  0.900274  0.669612  0.456069  0.289804  0.525819"
      ]
     },
     "execution_count": 38,
     "metadata": {},
     "output_type": "execute_result"
    }
   ],
   "source": [
    "np.random.seed(25)\n",
    "\n",
    "indice = ['linha 1','linha 2', 'linha 3', 'linha 4', 'linha 5', 'linha 6']\n",
    "colunas = ['coluna 1','coluna 2', 'coluna 3','coluna 4', 'coluna 5', 'coluna 6']\n",
    "\n",
    "df = DataFrame(np.random.rand(36).reshape((6,6)),\n",
    "              index = indice,\n",
    "              columns = colunas)\n",
    "\n",
    "df"
   ]
  },
  {
   "cell_type": "code",
   "execution_count": 32,
   "id": "b100137c",
   "metadata": {},
   "outputs": [
    {
     "data": {
      "text/html": [
       "<div>\n",
       "<style scoped>\n",
       "    .dataframe tbody tr th:only-of-type {\n",
       "        vertical-align: middle;\n",
       "    }\n",
       "\n",
       "    .dataframe tbody tr th {\n",
       "        vertical-align: top;\n",
       "    }\n",
       "\n",
       "    .dataframe thead th {\n",
       "        text-align: right;\n",
       "    }\n",
       "</style>\n",
       "<table border=\"1\" class=\"dataframe\">\n",
       "  <thead>\n",
       "    <tr style=\"text-align: right;\">\n",
       "      <th></th>\n",
       "      <th>coluna 1</th>\n",
       "      <th>coluna 5</th>\n",
       "    </tr>\n",
       "  </thead>\n",
       "  <tbody>\n",
       "    <tr>\n",
       "      <th>linha 2</th>\n",
       "      <td>0.335366</td>\n",
       "      <td>0.759208</td>\n",
       "    </tr>\n",
       "    <tr>\n",
       "      <th>linha 4</th>\n",
       "      <td>0.174626</td>\n",
       "      <td>0.689437</td>\n",
       "    </tr>\n",
       "  </tbody>\n",
       "</table>\n",
       "</div>"
      ],
      "text/plain": [
       "         coluna 1  coluna 5\n",
       "linha 2  0.335366  0.759208\n",
       "linha 4  0.174626  0.689437"
      ]
     },
     "execution_count": 32,
     "metadata": {},
     "output_type": "execute_result"
    }
   ],
   "source": [
    "df.loc[['linha 2', 'linha 4'], ['coluna 1', 'coluna 5']]"
   ]
  },
  {
   "cell_type": "markdown",
   "id": "95c20a9b",
   "metadata": {},
   "source": [
    "### Fatiando dados"
   ]
  },
  {
   "cell_type": "code",
   "execution_count": 33,
   "id": "852db244",
   "metadata": {},
   "outputs": [
    {
     "data": {
      "text/plain": [
       "linha 3    2\n",
       "linha 4    3\n",
       "linha 5    4\n",
       "linha 6    5\n",
       "linha 7    6\n",
       "dtype: int32"
      ]
     },
     "execution_count": 33,
     "metadata": {},
     "output_type": "execute_result"
    }
   ],
   "source": [
    "serie['linha 3':'linha 7']"
   ]
  },
  {
   "cell_type": "code",
   "execution_count": null,
   "id": "dbd8d7b6",
   "metadata": {},
   "outputs": [],
   "source": []
  }
 ],
 "metadata": {
  "kernelspec": {
   "display_name": "Python 3 (ipykernel)",
   "language": "python",
   "name": "python3"
  },
  "language_info": {
   "codemirror_mode": {
    "name": "ipython",
    "version": 3
   },
   "file_extension": ".py",
   "mimetype": "text/x-python",
   "name": "python",
   "nbconvert_exporter": "python",
   "pygments_lexer": "ipython3",
   "version": "3.9.13"
  }
 },
 "nbformat": 4,
 "nbformat_minor": 5
}
